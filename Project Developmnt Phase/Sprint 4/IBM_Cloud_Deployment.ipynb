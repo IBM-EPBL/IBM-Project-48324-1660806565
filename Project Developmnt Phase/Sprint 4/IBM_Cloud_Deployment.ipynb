{
  "metadata": {
    "language_info": {
      "codemirror_mode": {
        "name": "python",
        "version": 3
      },
      "file_extension": ".py",
      "mimetype": "text/x-python",
      "name": "python",
      "nbconvert_exporter": "python",
      "pygments_lexer": "ipython3",
      "version": "3.8"
    },
    "kernelspec": {
      "name": "python",
      "display_name": "Python (Pyodide)",
      "language": "python"
    }
  },
  "nbformat_minor": 4,
  "nbformat": 4,
  "cells": [
    {
      "cell_type": "code",
      "source": "import numpy as np\nfrom flask import Flask, request, jsonify, render_template\nimport joblib\nimport requests\n\n# NOTE: you must manually set API_KEY below using information retrieved from your IBM Cloud account.\nAPI_KEY = \"eq_uB9S4u70ys6t-jeWs2uoNIscWVl0Gh0C9GTKlDloW\"\ntoken_response = requests.post('https://iam.cloud.ibm.com/identity/token', data={\"apikey\":\n API_KEY, \"grant_type\": 'urn:ibm:params:oauth:grant-type:apikey'})\nmltoken = token_response.json()[\"access_token\"]\n\nheader = {'Content-Type': 'application/json', 'Authorization': 'Bearer ' + mltoken}\n\n\napp = Flask(__name__)\n#model = joblib.load('xg_RFR_forecast_model.sav')\n#model = joblib.load('dec_model.sav')\n\n@app.route('/')\ndef home():\n    return render_template('intro.html')\n@app.route('/predict')\ndef predict():\n    return render_template('predict_page.html')\n@app.route('/windapi',methods=['POST'])\ndef windapi():\n    city=request.form.get('city')\n    apikey=\"e26bb531d3393dec23475ee08ea9559b\"\n    url=\"http://api.openweathermap.org/data/2.5/weather?q=\"+city+\"&appid=\"+apikey\n    resp = requests.get(url)\n    resp=resp.json()\n    temp = str((resp[\"main\"][\"temp\"])-273.15) +\" °C\"\n    humid = str(resp[\"main\"][\"humidity\"])+\" %\"\n    pressure = str(resp[\"main\"][\"pressure\"])+\" mmHG\"\n    speed = str((resp[\"wind\"][\"speed\"])*3.6)+\" Km/hr\"\n    direc = str((resp[\"wind\"][\"deg\"]))+\" deg\"\n    return render_template('predict_page.html', temp=temp, humid=humid, pressure=pressure,speed=speed,direction = direc)   \n@app.route('/y_predict',methods=['POST'])\ndef y_predict():\n    x_test =[]\n    month_dic = {\"jan\":1,\"feb\":2,\"mar\":3,\"apr\":4,\"may\":5,\"jun\":6,\"jul\":7,\"aug\":8,\"sept\":9,\"oct\":10,\"nov\":11,\"dec\":12}\n    m = request.form['month']\n    mon = month_dic[m]\n    print(m)\n    #x_test.append(month_dic[m])\n    d = int(request.form['day'])\n    #x_test.append(d)\n    t = float(request.form['temp'])\n    #x_test.append(t)\n    direc = float(request.form['direc'])\n    #x_test.append(direc)\n    speed= float(request.form['wind'])\n    #x_test.append(speed)\n    #x_test = [x_test]\n    x_test =[[mon,d,t,direc,speed]]\n    payload_scoring = {\"input_data\": [{\"field\": [['m','d','t','direc','speed']], \"values\": x_test}]}\n\n    response_scoring = requests.post('https://us-south.ml.cloud.ibm.com/ml/v4/deployments/3c935904-17f3-4b91-993e-7fbf112afe46/predictions?version=2022-11-06', json=payload_scoring,headers={'Authorization': 'Bearer ' + mltoken})\n    print(\"Scoring response\")\n    print(response_scoring.json())\n\n    predictions = response_scoring.json()\n    output = predictions['predictions'][0]['values'][0][0]\n    print(\"final prediction\",output)\n    \n    \n    \n    print(x_test)\n    \n    return render_template('predict_page.html', prediction_text='The energy predicted is {:.2f} KWh'.format(output))\n\n\nif __name__ == \"__main__\":\n    app.run(debug=False)",
      "metadata": {},
      "execution_count": null,
      "outputs": []
    }
  ]
}