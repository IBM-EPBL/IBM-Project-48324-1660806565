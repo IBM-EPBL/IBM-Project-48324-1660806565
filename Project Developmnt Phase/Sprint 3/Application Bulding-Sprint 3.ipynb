{
  "metadata": {
    "language_info": {
      "codemirror_mode": {
        "name": "python",
        "version": 3
      },
      "file_extension": ".py",
      "mimetype": "text/x-python",
      "name": "python",
      "nbconvert_exporter": "python",
      "pygments_lexer": "ipython3",
      "version": "3.8"
    },
    "kernelspec": {
      "name": "python",
      "display_name": "Python (Pyodide)",
      "language": "python"
    }
  },
  "nbformat_minor": 4,
  "nbformat": 4,
  "cells": [
    {
      "cell_type": "code",
      "source": "import numpy as np\nfrom flask import Flask, request, jsonify, render_template\nimport joblib\nimport requests\n\napp = Flask(__name__)\n#model = joblib.load('xg_RFR_forecast_model.sav')\nmodel = joblib.load('dec_model.sav')\n\n@app.route('/')\ndef home():\n    return render_template('intro.html')\n@app.route('/predict')\ndef predict():\n    return render_template('predict_page.html')\n@app.route('/windapi',methods=['POST'])\ndef windapi():\n    city=request.form.get('city')\n    apikey=\"e26bb531d3393dec23475ee08ea9559b\"\n    url=\"http://api.openweathermap.org/data/2.5/weather?q=\"+city+\"&appid=\"+apikey\n    resp = requests.get(url)\n    resp=resp.json()\n    temp = str((resp[\"main\"][\"temp\"])-273.15) +\" °C\"\n    humid = str(resp[\"main\"][\"humidity\"])+\" %\"\n    pressure = str(resp[\"main\"][\"pressure\"])+\" mmHG\"\n    speed = str((resp[\"wind\"][\"speed\"])*3.6)+\" Km/hr\"\n    direc = str((resp[\"wind\"][\"deg\"]))+\" deg\"\n    return render_template('predict_page.html', temp=temp, humid=humid, pressure=pressure,speed=speed,direction = direc)   \n@app.route('/y_predict',methods=['POST'])\ndef y_predict():\n    x_test =[]\n    month_dic = {\"jan\":1,\"feb\":2,\"mar\":3,\"apr\":4,\"may\":5,\"jun\":6,\"jul\":7,\"aug\":8,\"sept\":9,\"oct\":10,\"nov\":11,\"dec\":12}\n    m = request.form['month']\n    print(m)\n    x_test.append(month_dic[m])\n    d = int(request.form['day'])\n    x_test.append(d)\n    t = float(request.form['temp'])\n    x_test.append(t)\n    direc = float(request.form['direc'])\n    x_test.append(direc)\n    speed= float(request.form['wind'])\n    x_test.append(speed)\n    x_test = [x_test]\n    print(x_test)\n    prediction = model.predict(x_test)\n    print(prediction)\n    output = prediction[0] \n    return render_template('predict_page.html', prediction_text='The energy predicted is {:.2f} KWh'.format(output))\n\n\nif __name__ == \"__main__\":\n    app.run(debug=False)",
      "metadata": {},
      "execution_count": null,
      "outputs": []
    }
  ]
}